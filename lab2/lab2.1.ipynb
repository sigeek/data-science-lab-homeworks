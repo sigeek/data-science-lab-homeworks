{
 "cells": [
  {
   "cell_type": "markdown",
   "metadata": {},
   "source": [
    "# Introduction"
   ]
  },
  {
   "cell_type": "code",
   "execution_count": 10,
   "metadata": {},
   "outputs": [
    {
     "data": {
      "image/png": "[encoded data removed]",
      "text/plain": [
       "<Figure size 432x288 with 1 Axes>"
      ]
     },
     "metadata": {
      "needs_background": "light"
     },
     "output_type": "display_data"
    }
   ],
   "source": [
    "from random import gauss\n",
    "import matplotlib.pyplot as plt\n",
    "\n",
    "%matplotlib inline\n",
    "\n",
    "l = [gauss(0,1) for _ in range(500)]\n",
    "plt.hist(l)\n",
    "plt.show()"
   ]
  },
  {
   "cell_type": "markdown",
   "metadata": {},
   "source": [
    "# Importing dataframe with pandas"
   ]
  },
  {
   "cell_type": "code",
   "execution_count": 1,
   "metadata": {},
   "outputs": [],
   "source": [
    "import pandas as pd\n",
    "\n",
    "df = pd.read_csv(\"glt.csv\")\n",
    "df.head(5)\n",
    "dforder = df.sort_values(['City', 'Date'])\n",
    "df = df.drop(df.columns[[0, 2, 4, 5, 6]], axis=1)"
   ]
  },
  {
   "cell_type": "markdown",
   "metadata": {},
   "source": [
    "# Computing missing values"
   ]
  },
  {
   "cell_type": "code",
   "execution_count": 65,
   "metadata": {
    "scrolled": true
   },
   "outputs": [],
   "source": [
    "import math\n",
    "nan_rows = df.loc[df['AverageTemperature'].isnull()]\n",
    "#pd.set_option('mode.chained_assignment', None)\n",
    "for (i, row) in nan_rows.iterrows():\n",
    "    j = i+1\n",
    "    preceding = df.iloc[i-1]\n",
    "    following = df.iloc[i+1]\n",
    "    if (following.City == row.City) & (preceding.City == row.City):\n",
    "        while math.isnan(following.AverageTemperature):\n",
    "            following = df.iloc[j+1]\n",
    "            j=j+1# Computing missing values\n",
    "        if math.isnan(preceding.AverageTemperature):\n",
    "            df.loc[i, 'AverageTemperature'] = (0 + following.AverageTemperature) / 2  \n",
    "        df.loc[i, 'AverageTemperature'] = (preceding.AverageTemperature + following.AverageTemperature) / 2  \n",
    "    # df.iloc[i].AverageTemperature = result N0N VIENE ASSEGNATO"
   ]
  },
  {
   "cell_type": "markdown",
   "metadata": {},
   "source": [
    "# Hottest and coldest temperatures function"
   ]
  },
  {
   "cell_type": "code",
   "execution_count": 57,
   "metadata": {},
   "outputs": [],
   "source": [
    "def temperatures(name, N):\n",
    "    data = df.loc[df['City'] == name]\n",
    "    data = data.sort_values(by=['AverageTemperature'])\n",
    "    hottest = data.head(N)# Computing missing values\n",
    "    coldest = data.tail(N).iloc[::-1]\n",
    "    print(\"Hottest\" + \"%i\" %N + \"temperatures in\" + name)\n",
    "    print(hottest)\n",
    "    print(\"Coldest\" + \"%i\" %N + \"temperatures in\" + name)\n",
    "    print(coldest)\n",
    "    "
   ]
  },
  {
   "cell_type": "markdown",
   "metadata": {},
   "source": [
    "# Parameters: (\"Bangkok\", 5)"
   ]
  },
  {
   "cell_type": "code",
   "execution_count": 58,
   "metadata": {},
   "outputs": [
    {
     "name": "stdout",
     "output_type": "stream",
     "text": [
      "Hottest5temperatures inBangkok\n",
      "       AverageTemperature     City\n",
      "19487             71.4092  Bangkok\n",
      "18023             71.4686  Bangkok\n",
      "19224             72.0554  Bangkok\n",
      "18923             72.1526  Bangkok\n",
      "19199             72.4856  Bangkok\n",
      "Coldest5temperatures inBangkok\n",
      "       AverageTemperature     City\n",
      "20332             88.0070  Bangkok\n",
      "20331             87.9548  Bangkok\n",
      "20187             87.8396  Bangkok\n",
      "19887             87.7694  Bangkok\n",
      "18074             87.7118  Bangkok\n"
     ]
    }
   ],
   "source": [
    "temperatures(\"Bangkok\", 5)"
   ]
  },
  {
   "cell_type": "markdown",
   "metadata": {},
   "source": [
    "# Distribution of the average land temperatures for Rome and Bangkok"
   ]
  },
  {
   "cell_type": "code",
   "execution_count": 67,
   "metadata": {},
   "outputs": [
    {
     "data": {
      "image/png": "[encoded data removed]",
      "text/plain": [
       "<Figure size 432x288 with 1 Axes>"
      ]
     },
     "metadata": {
      "needs_background": "light"
     },
     "output_type": "display_data"
    }
   ],
   "source": [
    "pd.set_option('mode.chained_assignment', None)\n",
    "dataRome = df.loc[df['City'] == 'Rome']\n",
    "dataBangkok = df.loc[df['City'] == 'Bangkok']\n",
    "for (i, row) in dataBangkok.iterrows():\n",
    "    dataBangkok.loc[i, 'AverageTemperature'] = (dataBangkok.loc[i, 'AverageTemperature'] -32)/1.8\n",
    "    \n",
    "l1 = dataRome['AverageTemperature']\n",
    "plt.hist(l1)\n",
    "\n",
    "l2 = dataBangkok['AverageTemperature']\n",
    "plt.hist(l2)\n",
    "plt.show()\n"
   ]
  }
 ],
 "metadata": {
  "kernelspec": {
   "display_name": "Python 3",
   "language": "python",
   "name": "python3"
  },
  "language_info": {
   "codemirror_mode": {
    "name": "ipython",
    "version": 3
   },
   "file_extension": ".py",
   "mimetype": "text/x-python",
   "name": "python",
   "nbconvert_exporter": "python",
   "pygments_lexer": "ipython3",
   "version": "3.7.4"
  }
 },
 "nbformat": 4,
 "nbformat_minor": 2
}
