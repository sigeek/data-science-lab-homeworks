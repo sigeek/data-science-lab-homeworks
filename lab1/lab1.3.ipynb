{
 "cells": [
  {
   "cell_type": "markdown",
   "metadata": {},
   "source": [
    "# Importing libraries and file"
   ]
  },
  {
   "cell_type": "code",
   "execution_count": 1,
   "metadata": {
    "scrolled": true
   },
   "outputs": [
    {
     "name": "stdout",
     "output_type": "stream",
     "text": [
      "[['7' '0' '0' ... '0' '0' '0']\n",
      " ['2' '0' '0' ... '0' '0' '0']\n",
      " ['1' '0' '0' ... '0' '0' '0']\n",
      " ...\n",
      " ['4' '0' '0' ... '0' '0' '0']\n",
      " ['5' '0' '0' ... '0' '0' '0']\n",
      " ['6' '0' '0' ... '0' '0' '0']]\n"
     ]
    }
   ],
   "source": [
    "import csv\n",
    "import math\n",
    "import numpy as np\n",
    "\n",
    "lists = []\n",
    "with open(\"mnist.csv\") as f:\n",
    "    \n",
    "    for row in csv.reader(f):\n",
    "            lists.append(row)\n",
    "            \n",
    "A = np.array(lists)\n",
    "print(A)\n",
    "    "
   ]
  },
  {
   "cell_type": "markdown",
   "metadata": {},
   "source": [
    "# Function printnumber(k)"
   ]
  },
  {
   "cell_type": "code",
   "execution_count": 4,
   "metadata": {
    "scrolled": false
   },
   "outputs": [],
   "source": [
    "def printnumber(k):\n",
    "    count=0\n",
    "    with open(\"output.txt\", \"w\") as f:\n",
    "        for j in range(784):\n",
    "            if j==0:\n",
    "                continue\n",
    "\n",
    "            if int(A[k][j]) >= 0 and int(A[k][j])<64:\n",
    "                print(\" \" , end='',  file=f)\n",
    "            elif int(A[k][j]) >= 64 and int(A[k][j])<128:\n",
    "                print(\".\" , end='', file=f)\n",
    "            elif int(A[k][j]) >= 128 and int(A[k][j])<192:\n",
    "                print(\"*\" , end='', file=f)\n",
    "            elif int(A[k][j]) >= 192 and int(A[k][j])<256:\n",
    "                print(\"#\" , end='', file=f)\n",
    "            else:\n",
    "                print(\"Error value\")\n",
    "            count+=1\n",
    "            if count==28:\n",
    "                print(\" \", file=f)\n",
    "                count=0"
   ]
  },
  {
   "cell_type": "code",
   "execution_count": 5,
   "metadata": {},
   "outputs": [],
   "source": [
    "printnumber(0)"
   ]
  }
 ],
 "metadata": {
  "kernelspec": {
   "display_name": "Python 3",
   "language": "python",
   "name": "python3"
  },
  "language_info": {
   "codemirror_mode": {
    "name": "ipython",
    "version": 3
   },
   "file_extension": ".py",
   "mimetype": "text/x-python",
   "name": "python",
   "nbconvert_exporter": "python",
   "pygments_lexer": "ipython3",
   "version": "3.7.4"
  }
 },
 "nbformat": 4,
 "nbformat_minor": 2
}
